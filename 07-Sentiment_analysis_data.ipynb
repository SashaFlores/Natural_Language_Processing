{
 "cells": [
  {
   "cell_type": "markdown",
   "metadata": {},
   "source": [
    "# Instructor Do: Getting Data for Sentiment Analysis"
   ]
  },
  {
   "cell_type": "code",
   "execution_count": 1,
   "metadata": {},
   "outputs": [
    {
     "data": {
      "text/plain": [
       "True"
      ]
     },
     "execution_count": 1,
     "metadata": {},
     "output_type": "execute_result"
    }
   ],
   "source": [
    "# Initial imports\n",
    "import os\n",
    "import pandas as pd\n",
    "from newsapi import NewsApiClient\n",
    "from dotenv import load_dotenv\n",
    "load_dotenv()\n"
   ]
  },
  {
   "cell_type": "code",
   "execution_count": 2,
   "metadata": {},
   "outputs": [],
   "source": [
    "# Reading the News API key enviroment variable\n",
    "api_key = os.getenv(\"news_api\")\n",
    "\n"
   ]
  },
  {
   "cell_type": "code",
   "execution_count": 3,
   "metadata": {},
   "outputs": [],
   "source": [
    "# Create a newsapi client\n",
    "newsapi = NewsApiClient(api_key=api_key)\n",
    "\n"
   ]
  },
  {
   "cell_type": "code",
   "execution_count": 10,
   "metadata": {
    "collapsed": true,
    "jupyter": {
     "outputs_hidden": true
    }
   },
   "outputs": [
    {
     "data": {
      "text/plain": [
       "{'status': 'ok',\n",
       " 'totalResults': 5,\n",
       " 'articles': [{'source': {'id': None, 'name': 'New York Times'},\n",
       "   'author': 'Mark Landler, Stephen Castle',\n",
       "   'title': 'Boris Johnson, Covid, Brexit and the Art of Policy Improvisation - The New York Times',\n",
       "   'description': 'Even by the British prime minister’s lofty standards, his reversals this week on the two dominant issues facing his country were breathtaking.',\n",
       "   'url': 'https://www.nytimes.com/2020/09/09/world/europe/boris-johnson-brexit-coronaviras.html',\n",
       "   'urlToImage': 'https://static01.nyt.com/images/2020/09/09/world/09britain/09britain-facebookJumbo.jpg',\n",
       "   'publishedAt': '2020-09-09T21:14:00Z',\n",
       "   'content': 'Health officials said they worried that many of the cases were in young people, raising the danger that Britain is on the same path as France and Spain, where a jump in cases prompted Britain to impo… [+1637 chars]'},\n",
       "  {'source': {'id': None, 'name': 'New York Post'},\n",
       "   'author': 'Jackie Salo',\n",
       "   'title': 'What is transverse myelitis? The illness that halted AstraZeneca vaccine trial - New York Post ',\n",
       "   'description': 'The COVID-19 vaccine participant whose unexpected illness put the AstraZeneca trials on pause came down with an inflammatory syndrome known as transverse myelitis, according to a report. The indivi…',\n",
       "   'url': 'https://nypost.com/2020/09/09/transverse-myelitis-the-illness-that-halted-astrazeneca-vaccine-trial/',\n",
       "   'urlToImage': 'https://nypost.com/wp-content/uploads/sites/2/2020/09/infectious-disease-expert.jpg?quality=90&strip=all&w=1200',\n",
       "   'publishedAt': '2020-09-09T20:23:00Z',\n",
       "   'content': 'The COVID-19 vaccine participant whose unexpected illness put the AstraZeneca trials on pause came down with an inflammatory syndrome known as transverse myelitis, according to a report.\\r\\nThe individ… [+973 chars]'},\n",
       "  {'source': {'id': 'the-hill', 'name': 'The Hill'},\n",
       "   'author': 'Maggie Miller',\n",
       "   'title': \"House panel details 'serious' concerns around Florida, Georgia, Texas, Wisconsin elections | TheHill - The Hill\",\n",
       "   'description': 'Democrats on the House Select Subcommittee on the Coronavirus Crisis on Wednesday detailed “serious” concerns around the ability of Florida, Georgia, Texas and Wisconsin to hold safe and secure elections during the COVID-19 pandemic.',\n",
       "   'url': 'https://thehill.com/policy/technology/515709-house-panel-details-serious-concerns-around-florida-georgia-texas',\n",
       "   'urlToImage': 'https://thehill.com/sites/default/files/electionsecurity_110816getty.jpg',\n",
       "   'publishedAt': '2020-09-09T19:40:50Z',\n",
       "   'content': 'Democrats on the House Select Subcommittee on the Coronavirus Crisis on Wednesday detailed serious concerns around the ability of Florida, Georgia, Texas and Wisconsin to hold safe and secure electio… [+6781 chars]'},\n",
       "  {'source': {'id': None, 'name': 'The Dallas Morning News'},\n",
       "   'author': 'Catherine Marfin',\n",
       "   'title': 'We asked 3 North Texas health experts: Should you prepare for flu season differently because of COVID-19? - The Dallas Morning News',\n",
       "   'description': 'With flu season nearing as COVID-19 continues to spread in many communities, health experts it’s more important than ever to get a flu shot. Despite...',\n",
       "   'url': 'https://www.dallasnews.com/news/2020/09/09/we-asked-3-north-texas-health-experts-should-you-prepare-for-flu-season-differently-because-of-covid-19/',\n",
       "   'urlToImage': 'https://dmn-dallas-news-prod.cdn.arcpublishing.com/resizer/r9Y7K-SmGM1Kbo1q1E6bsHt-vNQ=/1200x630/smart/filters:no_upscale()/cloudfront-us-east-1.images.arcpublishing.com/dmn/U4RZWTEKGVCSPIEDSNCE7MOEFA.jpg',\n",
       "   'publishedAt': '2020-09-09T11:01:30Z',\n",
       "   'content': 'With flu season nearing as COVID-19 continues to spread in many communities, health experts its more important than ever to get a flu shot.\\r\\nDespite declining case numbers and hospitalizations in Nor… [+6461 chars]'},\n",
       "  {'source': {'id': 'cbs-news', 'name': 'CBS News'},\n",
       "   'author': 'Peter Martinez',\n",
       "   'title': 'More than half a million children in the U.S. have tested positive for coronavirus since pandemic started, report says - CBS News',\n",
       "   'description': 'There have been 70,630 new child cases of COVID-19, a 16% increase over two weeks, between August 20 and September 3, according to the American Academy of Pediatrics.',\n",
       "   'url': 'https://www.cbsnews.com/news/covid-kids-half-million-test-positive-unitd-states/',\n",
       "   'urlToImage': 'https://cbsnews2.cbsistatic.com/hub/i/r/2020/09/09/243bd096-5672-4cdd-8d45-72150921c567/thumbnail/1200x630/4f135fd2ca889db9996bbe6350443e07/gettyimages-1270280486.jpg',\n",
       "   'publishedAt': '2020-09-09T11:00:00Z',\n",
       "   'content': 'New data out Tuesday shows that more than 500,000 children in the U.S. have tested positive for the coronavirus since the pandemic started, according to the American Academy of Pediatrics\\xa0(AAP). The … [+3953 chars]'}]}"
      ]
     },
     "execution_count": 10,
     "metadata": {},
     "output_type": "execute_result"
    }
   ],
   "source": [
    "# Fetch top news articles about oil\n",
    "\n",
    "headlines = newsapi.get_top_headlines(q=\"covid\", language=\"en\", country=\"us\") # there is no articles about oil\n",
    "headlines\n",
    "\n"
   ]
  },
  {
   "cell_type": "code",
   "execution_count": 11,
   "metadata": {
    "collapsed": true,
    "jupyter": {
     "outputs_hidden": true
    }
   },
   "outputs": [
    {
     "name": "stdout",
     "output_type": "stream",
     "text": [
      "Total articles about covid: 5\n"
     ]
    },
    {
     "data": {
      "text/plain": [
       "{'source': {'id': None, 'name': 'New York Times'},\n",
       " 'author': 'Mark Landler, Stephen Castle',\n",
       " 'title': 'Boris Johnson, Covid, Brexit and the Art of Policy Improvisation - The New York Times',\n",
       " 'description': 'Even by the British prime minister’s lofty standards, his reversals this week on the two dominant issues facing his country were breathtaking.',\n",
       " 'url': 'https://www.nytimes.com/2020/09/09/world/europe/boris-johnson-brexit-coronaviras.html',\n",
       " 'urlToImage': 'https://static01.nyt.com/images/2020/09/09/world/09britain/09britain-facebookJumbo.jpg',\n",
       " 'publishedAt': '2020-09-09T21:14:00Z',\n",
       " 'content': 'Health officials said they worried that many of the cases were in young people, raising the danger that Britain is on the same path as France and Spain, where a jump in cases prompted Britain to impo… [+1637 chars]'}"
      ]
     },
     "execution_count": 11,
     "metadata": {},
     "output_type": "execute_result"
    }
   ],
   "source": [
    "# Print total articles\n",
    "print(f\"Total articles about covid: {headlines['totalResults']}\")\n",
    "\n",
    "# Show sample article\n",
    "headlines[\"articles\"][0]\n",
    "\n"
   ]
  },
  {
   "cell_type": "code",
   "execution_count": 13,
   "metadata": {
    "collapsed": true,
    "jupyter": {
     "outputs_hidden": true
    }
   },
   "outputs": [
    {
     "data": {
      "text/html": [
       "<div>\n",
       "<style scoped>\n",
       "    .dataframe tbody tr th:only-of-type {\n",
       "        vertical-align: middle;\n",
       "    }\n",
       "\n",
       "    .dataframe tbody tr th {\n",
       "        vertical-align: top;\n",
       "    }\n",
       "\n",
       "    .dataframe thead th {\n",
       "        text-align: right;\n",
       "    }\n",
       "</style>\n",
       "<table border=\"1\" class=\"dataframe\">\n",
       "  <thead>\n",
       "    <tr style=\"text-align: right;\">\n",
       "      <th></th>\n",
       "      <th>author</th>\n",
       "      <th>content</th>\n",
       "      <th>description</th>\n",
       "      <th>publishedAt</th>\n",
       "      <th>source</th>\n",
       "      <th>title</th>\n",
       "      <th>url</th>\n",
       "      <th>urlToImage</th>\n",
       "    </tr>\n",
       "  </thead>\n",
       "  <tbody>\n",
       "    <tr>\n",
       "      <th>0</th>\n",
       "      <td>Mark Landler, Stephen Castle</td>\n",
       "      <td>Health officials said they worried that many o...</td>\n",
       "      <td>Even by the British prime minister’s lofty sta...</td>\n",
       "      <td>2020-09-09T21:14:00Z</td>\n",
       "      <td>{'id': None, 'name': 'New York Times'}</td>\n",
       "      <td>Boris Johnson, Covid, Brexit and the Art of Po...</td>\n",
       "      <td>https://www.nytimes.com/2020/09/09/world/europ...</td>\n",
       "      <td>https://static01.nyt.com/images/2020/09/09/wor...</td>\n",
       "    </tr>\n",
       "    <tr>\n",
       "      <th>1</th>\n",
       "      <td>Jackie Salo</td>\n",
       "      <td>The COVID-19 vaccine participant whose unexpec...</td>\n",
       "      <td>The COVID-19 vaccine participant whose unexpec...</td>\n",
       "      <td>2020-09-09T20:23:00Z</td>\n",
       "      <td>{'id': None, 'name': 'New York Post'}</td>\n",
       "      <td>What is transverse myelitis? The illness that ...</td>\n",
       "      <td>https://nypost.com/2020/09/09/transverse-myeli...</td>\n",
       "      <td>https://nypost.com/wp-content/uploads/sites/2/...</td>\n",
       "    </tr>\n",
       "    <tr>\n",
       "      <th>2</th>\n",
       "      <td>Maggie Miller</td>\n",
       "      <td>Democrats on the House Select Subcommittee on ...</td>\n",
       "      <td>Democrats on the House Select Subcommittee on ...</td>\n",
       "      <td>2020-09-09T19:40:50Z</td>\n",
       "      <td>{'id': 'the-hill', 'name': 'The Hill'}</td>\n",
       "      <td>House panel details 'serious' concerns around ...</td>\n",
       "      <td>https://thehill.com/policy/technology/515709-h...</td>\n",
       "      <td>https://thehill.com/sites/default/files/electi...</td>\n",
       "    </tr>\n",
       "    <tr>\n",
       "      <th>3</th>\n",
       "      <td>Catherine Marfin</td>\n",
       "      <td>With flu season nearing as COVID-19 continues ...</td>\n",
       "      <td>With flu season nearing as COVID-19 continues ...</td>\n",
       "      <td>2020-09-09T11:01:30Z</td>\n",
       "      <td>{'id': None, 'name': 'The Dallas Morning News'}</td>\n",
       "      <td>We asked 3 North Texas health experts: Should ...</td>\n",
       "      <td>https://www.dallasnews.com/news/2020/09/09/we-...</td>\n",
       "      <td>https://dmn-dallas-news-prod.cdn.arcpublishing...</td>\n",
       "    </tr>\n",
       "    <tr>\n",
       "      <th>4</th>\n",
       "      <td>Peter Martinez</td>\n",
       "      <td>New data out Tuesday shows that more than 500,...</td>\n",
       "      <td>There have been 70,630 new child cases of COVI...</td>\n",
       "      <td>2020-09-09T11:00:00Z</td>\n",
       "      <td>{'id': 'cbs-news', 'name': 'CBS News'}</td>\n",
       "      <td>More than half a million children in the U.S. ...</td>\n",
       "      <td>https://www.cbsnews.com/news/covid-kids-half-m...</td>\n",
       "      <td>https://cbsnews2.cbsistatic.com/hub/i/r/2020/0...</td>\n",
       "    </tr>\n",
       "  </tbody>\n",
       "</table>\n",
       "</div>"
      ],
      "text/plain": [
       "                         author  \\\n",
       "0  Mark Landler, Stephen Castle   \n",
       "1                   Jackie Salo   \n",
       "2                 Maggie Miller   \n",
       "3              Catherine Marfin   \n",
       "4                Peter Martinez   \n",
       "\n",
       "                                             content  \\\n",
       "0  Health officials said they worried that many o...   \n",
       "1  The COVID-19 vaccine participant whose unexpec...   \n",
       "2  Democrats on the House Select Subcommittee on ...   \n",
       "3  With flu season nearing as COVID-19 continues ...   \n",
       "4  New data out Tuesday shows that more than 500,...   \n",
       "\n",
       "                                         description           publishedAt  \\\n",
       "0  Even by the British prime minister’s lofty sta...  2020-09-09T21:14:00Z   \n",
       "1  The COVID-19 vaccine participant whose unexpec...  2020-09-09T20:23:00Z   \n",
       "2  Democrats on the House Select Subcommittee on ...  2020-09-09T19:40:50Z   \n",
       "3  With flu season nearing as COVID-19 continues ...  2020-09-09T11:01:30Z   \n",
       "4  There have been 70,630 new child cases of COVI...  2020-09-09T11:00:00Z   \n",
       "\n",
       "                                            source  \\\n",
       "0           {'id': None, 'name': 'New York Times'}   \n",
       "1            {'id': None, 'name': 'New York Post'}   \n",
       "2           {'id': 'the-hill', 'name': 'The Hill'}   \n",
       "3  {'id': None, 'name': 'The Dallas Morning News'}   \n",
       "4           {'id': 'cbs-news', 'name': 'CBS News'}   \n",
       "\n",
       "                                               title  \\\n",
       "0  Boris Johnson, Covid, Brexit and the Art of Po...   \n",
       "1  What is transverse myelitis? The illness that ...   \n",
       "2  House panel details 'serious' concerns around ...   \n",
       "3  We asked 3 North Texas health experts: Should ...   \n",
       "4  More than half a million children in the U.S. ...   \n",
       "\n",
       "                                                 url  \\\n",
       "0  https://www.nytimes.com/2020/09/09/world/europ...   \n",
       "1  https://nypost.com/2020/09/09/transverse-myeli...   \n",
       "2  https://thehill.com/policy/technology/515709-h...   \n",
       "3  https://www.dallasnews.com/news/2020/09/09/we-...   \n",
       "4  https://www.cbsnews.com/news/covid-kids-half-m...   \n",
       "\n",
       "                                          urlToImage  \n",
       "0  https://static01.nyt.com/images/2020/09/09/wor...  \n",
       "1  https://nypost.com/wp-content/uploads/sites/2/...  \n",
       "2  https://thehill.com/sites/default/files/electi...  \n",
       "3  https://dmn-dallas-news-prod.cdn.arcpublishing...  \n",
       "4  https://cbsnews2.cbsistatic.com/hub/i/r/2020/0...  "
      ]
     },
     "execution_count": 13,
     "metadata": {},
     "output_type": "execute_result"
    }
   ],
   "source": [
    "# Transform the response dictionary to a DataFrame\n",
    "df = pd.DataFrame.from_dict(headlines[\"articles\"])\n",
    "\n",
    "df.head()\n"
   ]
  },
  {
   "cell_type": "code",
   "execution_count": 7,
   "metadata": {},
   "outputs": [
    {
     "name": "stdout",
     "output_type": "stream",
     "text": [
      "Total articles about Facebook Libra: 3733\n"
     ]
    },
    {
     "data": {
      "text/plain": [
       "{'source': {'id': 'techcrunch', 'name': 'TechCrunch'},\n",
       " 'author': 'Romain Dillet',\n",
       " 'title': 'What is the Libra Association going to do, really?',\n",
       " 'description': 'When Facebook unveiled Libra a few days ago, the company also announced the Libra Association, a not-for-profit that will oversee all things Libra. Facebook wants to make sure that everyone is aware that Libra was created by Facebook but isn’t controlled by F…',\n",
       " 'url': 'http://techcrunch.com/2019/06/26/what-is-the-libra-association-going-to-do-really/',\n",
       " 'urlToImage': 'https://techcrunch.com/wp-content/uploads/2019/06/GettyImages-1146087387.jpg?w=590',\n",
       " 'publishedAt': '2019-06-26T17:26:16Z',\n",
       " 'content': 'When Facebook unveiledLibra a few days ago, the company also announced the Libra Association, a not-for-profit that will oversee all things Libra. Facebook wants to make sure that everyone is aware that Libra was created by Facebook but isnt controlled by Fac… [+2026 chars]'}"
      ]
     },
     "execution_count": 7,
     "metadata": {},
     "output_type": "execute_result"
    }
   ],
   "source": [
    "# Fetch all the news about Facebook Libra\n",
    "libra_headlines = newsapi.get_everything(q=\"facebook libra\", language=\"en\", sort_by=\"relevancy\")\n",
    "\n",
    "# Print total articles\n",
    "print(f\"Total articles about Facebook Libra: {libra_headlines['totalResults']}\")\n",
    "\n",
    "# Show sample article\n",
    "libra_headlines[\"articles\"][0]\n",
    "\n"
   ]
  },
  {
   "cell_type": "markdown",
   "metadata": {},
   "source": [
    "**NOTE**\n",
    "\n",
    "It is also possible to send more than one keyword as search term, as with this example to fetch news about Facebook libra using q='facebook libra' as a parameter.\n",
    "\n",
    "separating two keywords by a blank space is equivalent to use q='facebook AND libra'"
   ]
  },
  {
   "cell_type": "code",
   "execution_count": 8,
   "metadata": {},
   "outputs": [
    {
     "data": {
      "text/html": [
       "<div>\n",
       "<style scoped>\n",
       "    .dataframe tbody tr th:only-of-type {\n",
       "        vertical-align: middle;\n",
       "    }\n",
       "\n",
       "    .dataframe tbody tr th {\n",
       "        vertical-align: top;\n",
       "    }\n",
       "\n",
       "    .dataframe thead th {\n",
       "        text-align: right;\n",
       "    }\n",
       "</style>\n",
       "<table border=\"1\" class=\"dataframe\">\n",
       "  <thead>\n",
       "    <tr style=\"text-align: right;\">\n",
       "      <th></th>\n",
       "      <th>author</th>\n",
       "      <th>content</th>\n",
       "      <th>description</th>\n",
       "      <th>publishedAt</th>\n",
       "      <th>source</th>\n",
       "      <th>title</th>\n",
       "      <th>url</th>\n",
       "      <th>urlToImage</th>\n",
       "    </tr>\n",
       "  </thead>\n",
       "  <tbody>\n",
       "    <tr>\n",
       "      <th>0</th>\n",
       "      <td>Romain Dillet</td>\n",
       "      <td>When Facebook unveiledLibra a few days ago, th...</td>\n",
       "      <td>When Facebook unveiled Libra a few days ago, t...</td>\n",
       "      <td>2019-06-26T17:26:16Z</td>\n",
       "      <td>{'id': 'techcrunch', 'name': 'TechCrunch'}</td>\n",
       "      <td>What is the Libra Association going to do, rea...</td>\n",
       "      <td>http://techcrunch.com/2019/06/26/what-is-the-l...</td>\n",
       "      <td>https://techcrunch.com/wp-content/uploads/2019...</td>\n",
       "    </tr>\n",
       "    <tr>\n",
       "      <th>1</th>\n",
       "      <td>Nick Douglas</td>\n",
       "      <td>On Tuesday Facebook announced Libra, a cryptoc...</td>\n",
       "      <td>On Tuesday Facebook announced Libra, a cryptoc...</td>\n",
       "      <td>2019-06-19T13:49:00Z</td>\n",
       "      <td>{'id': None, 'name': 'Lifehacker.com'}</td>\n",
       "      <td>Facebook's New Libra Coin: How Does It Work, a...</td>\n",
       "      <td>https://lifehacker.com/facebooks-new-libra-coi...</td>\n",
       "      <td>https://i.kinja-img.com/gawker-media/image/upl...</td>\n",
       "    </tr>\n",
       "    <tr>\n",
       "      <th>2</th>\n",
       "      <td>Josh Constine</td>\n",
       "      <td>The $10 million entry fee to join the Facebook...</td>\n",
       "      <td>The $10 million entry fee to join the Facebook...</td>\n",
       "      <td>2019-07-03T19:29:54Z</td>\n",
       "      <td>{'id': 'techcrunch', 'name': 'TechCrunch'}</td>\n",
       "      <td>We still don’t know how much of Libra Facebook...</td>\n",
       "      <td>http://techcrunch.com/2019/07/03/facebook-libr...</td>\n",
       "      <td>https://techcrunch.com/wp-content/uploads/2019...</td>\n",
       "    </tr>\n",
       "    <tr>\n",
       "      <th>3</th>\n",
       "      <td>Jon Fingas</td>\n",
       "      <td>He added that Facebook is treating Libra as a ...</td>\n",
       "      <td>Facebook is determined to reassure officials t...</td>\n",
       "      <td>2019-07-15T17:14:00Z</td>\n",
       "      <td>{'id': 'engadget', 'name': 'Engadget'}</td>\n",
       "      <td>Facebook won't make Libra available until regu...</td>\n",
       "      <td>https://www.engadget.com/2019/07/15/facebook-t...</td>\n",
       "      <td>https://o.aolcdn.com/images/dims?thumbnail=120...</td>\n",
       "    </tr>\n",
       "    <tr>\n",
       "      <th>4</th>\n",
       "      <td>Steve Dent</td>\n",
       "      <td>\"We write to request that Facebook and its par...</td>\n",
       "      <td>US lawmakers have asked Facebook to \"immediate...</td>\n",
       "      <td>2019-07-03T09:31:00Z</td>\n",
       "      <td>{'id': 'engadget', 'name': 'Engadget'}</td>\n",
       "      <td>US lawmakers tell Facebook to halt the launch ...</td>\n",
       "      <td>https://www.engadget.com/2019/07/03/us-lawmake...</td>\n",
       "      <td>https://o.aolcdn.com/images/dims?thumbnail=120...</td>\n",
       "    </tr>\n",
       "  </tbody>\n",
       "</table>\n",
       "</div>"
      ],
      "text/plain": [
       "          author                                            content  \\\n",
       "0  Romain Dillet  When Facebook unveiledLibra a few days ago, th...   \n",
       "1   Nick Douglas  On Tuesday Facebook announced Libra, a cryptoc...   \n",
       "2  Josh Constine  The $10 million entry fee to join the Facebook...   \n",
       "3     Jon Fingas  He added that Facebook is treating Libra as a ...   \n",
       "4     Steve Dent  \"We write to request that Facebook and its par...   \n",
       "\n",
       "                                         description           publishedAt  \\\n",
       "0  When Facebook unveiled Libra a few days ago, t...  2019-06-26T17:26:16Z   \n",
       "1  On Tuesday Facebook announced Libra, a cryptoc...  2019-06-19T13:49:00Z   \n",
       "2  The $10 million entry fee to join the Facebook...  2019-07-03T19:29:54Z   \n",
       "3  Facebook is determined to reassure officials t...  2019-07-15T17:14:00Z   \n",
       "4  US lawmakers have asked Facebook to \"immediate...  2019-07-03T09:31:00Z   \n",
       "\n",
       "                                       source  \\\n",
       "0  {'id': 'techcrunch', 'name': 'TechCrunch'}   \n",
       "1      {'id': None, 'name': 'Lifehacker.com'}   \n",
       "2  {'id': 'techcrunch', 'name': 'TechCrunch'}   \n",
       "3      {'id': 'engadget', 'name': 'Engadget'}   \n",
       "4      {'id': 'engadget', 'name': 'Engadget'}   \n",
       "\n",
       "                                               title  \\\n",
       "0  What is the Libra Association going to do, rea...   \n",
       "1  Facebook's New Libra Coin: How Does It Work, a...   \n",
       "2  We still don’t know how much of Libra Facebook...   \n",
       "3  Facebook won't make Libra available until regu...   \n",
       "4  US lawmakers tell Facebook to halt the launch ...   \n",
       "\n",
       "                                                 url  \\\n",
       "0  http://techcrunch.com/2019/06/26/what-is-the-l...   \n",
       "1  https://lifehacker.com/facebooks-new-libra-coi...   \n",
       "2  http://techcrunch.com/2019/07/03/facebook-libr...   \n",
       "3  https://www.engadget.com/2019/07/15/facebook-t...   \n",
       "4  https://www.engadget.com/2019/07/03/us-lawmake...   \n",
       "\n",
       "                                          urlToImage  \n",
       "0  https://techcrunch.com/wp-content/uploads/2019...  \n",
       "1  https://i.kinja-img.com/gawker-media/image/upl...  \n",
       "2  https://techcrunch.com/wp-content/uploads/2019...  \n",
       "3  https://o.aolcdn.com/images/dims?thumbnail=120...  \n",
       "4  https://o.aolcdn.com/images/dims?thumbnail=120...  "
      ]
     },
     "execution_count": 8,
     "metadata": {},
     "output_type": "execute_result"
    }
   ],
   "source": [
    "# Transform the response dictionary to a DataFrame\n",
    "libra_df = pd.DataFrame.from_dict(libra_headlines[\"articles\"])\n",
    "\n",
    "libra_df.head()\n"
   ]
  }
 ],
 "metadata": {
  "file_extension": ".py",
  "kernelspec": {
   "display_name": "Python [conda env:pyvizenv]",
   "language": "python",
   "name": "conda-env-pyvizenv-py"
  },
  "language_info": {
   "codemirror_mode": {
    "name": "ipython",
    "version": 3
   },
   "file_extension": ".py",
   "mimetype": "text/x-python",
   "name": "python",
   "nbconvert_exporter": "python",
   "pygments_lexer": "ipython3",
   "version": "3.7.7"
  },
  "mimetype": "text/x-python",
  "name": "python",
  "npconvert_exporter": "python",
  "pygments_lexer": "ipython3",
  "version": 3
 },
 "nbformat": 4,
 "nbformat_minor": 4
}
